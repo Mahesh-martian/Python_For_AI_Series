{
 "cells": [
  {
   "cell_type": "markdown",
   "metadata": {},
   "source": [
    "## Variables\n",
    "\n",
    "variables are used to store data that can be referenced and manipulated during program execution. They act as placeholders for data, allowing you to store and reuse values in your program. Python variables do not require explicit declaration of type; the type is inferred based on the value assigned.\n"
   ]
  },
  {
   "cell_type": "code",
   "execution_count": 10,
   "metadata": {},
   "outputs": [],
   "source": [
    "myNumber = 8756553635638"
   ]
  },
  {
   "cell_type": "code",
   "execution_count": 12,
   "metadata": {},
   "outputs": [
    {
     "name": "stdout",
     "output_type": "stream",
     "text": [
      "8756553635638\n",
      "8756553635638\n",
      "8756553635638\n"
     ]
    }
   ],
   "source": [
    "print(myNumber)\n",
    "print(myNumber)\n",
    "print(myNumber)\n"
   ]
  },
  {
   "cell_type": "markdown",
   "metadata": {},
   "source": [
    "\n",
    "# Rules for Identifiers in Python\n",
    "\n",
    "An **identifier** is the name used to identify variables, functions, classes, or other objects in Python. To ensure your code is valid and readable, Python has specific rules for naming identifiers.\n",
    "\n",
    "---\n",
    "\n",
    "## **Rules for Python Identifiers**\n",
    "\n",
    "### 1. **Identifiers Must Begin with a Letter or an Underscore (`_`)**\n",
    "- You cannot start an identifier with a digit.\n",
    "- **Valid:** `name`, `_variable`\n",
    "- **Invalid:** `1name`, `@data`\n",
    "\n",
    "### 2. **The Rest of the Identifier Can Contain Letters, Digits, or Underscores (`_`)**\n",
    "- After the first character, you can use a mix of letters, numbers, and underscores.\n",
    "- **Valid:** `name1`, `data_123`, `_hidden_var`\n",
    "- **Invalid:** `data#value`, `my-variable` (special characters like `#`, `-` are not allowed).\n",
    "\n",
    "### 3. **Identifiers Are Case-Sensitive**\n",
    "- Python treats uppercase and lowercase letters as distinct.\n",
    "- For example, `Name` and `name` are two different identifiers.\n",
    "\n",
    "### 4. **Identifiers Cannot Be the Same as Reserved Keywords**\n",
    "- Python has a set of reserved words (e.g., `if`, `else`, `while`, `def`) that cannot be used as identifiers.\n",
    "- **Examples of invalid identifiers:** `class`, `True`, `def`\n",
    "\n",
    "To see the list of reserved keywords in Python:\n",
    "```python\n",
    "import keyword\n",
    "print(keyword.kwlist)\n",
    "```\n",
    "\n",
    "### 5. **Identifiers Cannot Contain Special Characters**\n",
    "- Special characters such as `@`, `!`, `#`, `$`, `%`, `&`, `*`, etc., are not allowed.\n",
    "- **Valid:** `value_1`, `temp_data`\n",
    "- **Invalid:** `value@1`, `temp#data`\n",
    "\n",
    "### 6. **Identifiers Should Not Start with Numbers**\n",
    "- Numbers can appear in an identifier but not at the beginning.\n",
    "- **Valid:** `var1`, `_123abc`\n",
    "- **Invalid:** `1var`, `123abc`\n",
    "\n",
    "### 7. **No Limit to Identifier Length**\n",
    "- There is no limit to how long an identifier can be, but it’s a good practice to keep names concise and meaningful.\n",
    "\n",
    "### 8. **Avoid Using Double Underscores (`__`) for Regular Identifiers**\n",
    "- Identifiers with double underscores at the beginning and end (e.g., `__init__`, `__name__`) are reserved for special purposes in Python and should not be used for general variables.\n",
    "\n",
    "---\n",
    "\n",
    "## **Best Practices for Naming Identifiers**\n",
    "- **Be Descriptive:** Use meaningful names that reflect the purpose of the variable or function.\n",
    "  - **Bad:** `a`, `b`, `temp`\n",
    "  - **Good:** `student_name`, `total_marks`\n",
    "\n",
    "- **Use Snake Case for Variable and Function Names:**\n",
    "  - Separate words using underscores (`_`):\n",
    "    - **Example:** `total_score`, `calculate_area()`\n",
    "\n",
    "- **Use Pascal Case for Class Names:**\n",
    "  - Capitalize the first letter of each word:\n",
    "    - **Example:** `StudentDetails`, `EmployeeRecord`\n",
    "\n",
    "- **Avoid Starting with an Underscore Unless Necessary:**\n",
    "  - Names starting with `_` are often used for internal/private purposes.\n",
    "\n",
    "---\n",
    "\n",
    "## **Examples**\n",
    "```python\n",
    "# Valid Identifiers\n",
    "student_name = \"Alice\"\n",
    "total_marks = 95\n",
    "is_active = True\n",
    "_calculate_sum = 42\n",
    "Var123 = \"Python\"\n",
    "\n",
    "# Invalid Identifiers\n",
    "1variable = 10        # Cannot start with a number\n",
    "total$marks = 100     # Special character $ not allowed\n",
    "class = \"Math\"        # 'class' is a reserved keyword\n",
    "first-name = \"John\"   # Hyphen (-) is not allowed\n",
    "```\n",
    "\n"
   ]
  },
  {
   "cell_type": "code",
   "execution_count": 16,
   "metadata": {},
   "outputs": [],
   "source": [
    "# valid Identifiers\n",
    "student_name = \"Alice\"\n",
    "total_marks = 95\n",
    "is_active = True\n",
    "_calculate_sum = 42\n",
    "Var123 = \"Python\"\n",
    "\n"
   ]
  },
  {
   "cell_type": "code",
   "execution_count": 15,
   "metadata": {},
   "outputs": [
    {
     "ename": "SyntaxError",
     "evalue": "invalid syntax (3643262021.py, line 1)",
     "output_type": "error",
     "traceback": [
      "\u001b[1;36m  Cell \u001b[1;32mIn[15], line 1\u001b[1;36m\u001b[0m\n\u001b[1;33m    class = \"Math\"\u001b[0m\n\u001b[1;37m          ^\u001b[0m\n\u001b[1;31mSyntaxError\u001b[0m\u001b[1;31m:\u001b[0m invalid syntax\n"
     ]
    }
   ],
   "source": [
    "# class = \"Math\""
   ]
  },
  {
   "cell_type": "code",
   "execution_count": 17,
   "metadata": {},
   "outputs": [
    {
     "ename": "SyntaxError",
     "evalue": "invalid decimal literal (3139890775.py, line 2)",
     "output_type": "error",
     "traceback": [
      "\u001b[1;36m  Cell \u001b[1;32mIn[17], line 2\u001b[1;36m\u001b[0m\n\u001b[1;33m    1variable = 10        # Cannot start with a number\u001b[0m\n\u001b[1;37m    ^\u001b[0m\n\u001b[1;31mSyntaxError\u001b[0m\u001b[1;31m:\u001b[0m invalid decimal literal\n"
     ]
    }
   ],
   "source": [
    "# Invalid Identifiers\n",
    "1variable = 10        # Cannot start with a number\n",
    "total$marks = 100     # Special character $ not allowed\n",
    "class = \"Math\"        # 'class' is a reserved keyword\n",
    "first-name = \"John\"   # Hyphen (-) is not allowed"
   ]
  },
  {
   "cell_type": "code",
   "execution_count": 18,
   "metadata": {},
   "outputs": [
    {
     "name": "stdout",
     "output_type": "stream",
     "text": [
      "42\n"
     ]
    }
   ],
   "source": [
    "print(_calculate_sum)"
   ]
  },
  {
   "cell_type": "code",
   "execution_count": 19,
   "metadata": {},
   "outputs": [
    {
     "name": "stdout",
     "output_type": "stream",
     "text": [
      "['False', 'None', 'True', 'and', 'as', 'assert', 'async', 'await', 'break', 'class', 'continue', 'def', 'del', 'elif', 'else', 'except', 'finally', 'for', 'from', 'global', 'if', 'import', 'in', 'is', 'lambda', 'nonlocal', 'not', 'or', 'pass', 'raise', 'return', 'try', 'while', 'with', 'yield']\n"
     ]
    }
   ],
   "source": [
    "import keyword\n",
    "\n",
    "\n",
    "\n",
    "print(keyword.kwlist)"
   ]
  },
  {
   "cell_type": "code",
   "execution_count": 20,
   "metadata": {},
   "outputs": [
    {
     "name": "stdout",
     "output_type": "stream",
     "text": [
      "35\n"
     ]
    }
   ],
   "source": [
    "print(len(keyword.kwlist))"
   ]
  },
  {
   "cell_type": "code",
   "execution_count": null,
   "metadata": {},
   "outputs": [],
   "source": []
  }
 ],
 "metadata": {
  "kernelspec": {
   "display_name": "Python 3",
   "language": "python",
   "name": "python3"
  },
  "language_info": {
   "codemirror_mode": {
    "name": "ipython",
    "version": 3
   },
   "file_extension": ".py",
   "mimetype": "text/x-python",
   "name": "python",
   "nbconvert_exporter": "python",
   "pygments_lexer": "ipython3",
   "version": "3.13.0"
  }
 },
 "nbformat": 4,
 "nbformat_minor": 2
}
